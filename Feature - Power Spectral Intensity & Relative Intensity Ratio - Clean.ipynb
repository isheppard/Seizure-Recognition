{
 "cells": [
  {
   "cell_type": "markdown",
   "metadata": {},
   "source": [
    "## reference link (PYEEG)\n",
    "https://www.ncbi.nlm.nih.gov/pmc/articles/PMC3070217/"
   ]
  },
  {
   "cell_type": "code",
   "execution_count": 1,
   "metadata": {
    "collapsed": true
   },
   "outputs": [],
   "source": [
    "import scipy.io as sio\n",
    "import glob\n",
    "import numpy\n",
    "import time"
   ]
  },
  {
   "cell_type": "code",
   "execution_count": 2,
   "metadata": {
    "collapsed": true
   },
   "outputs": [],
   "source": [
    "def load_patient_train_data(paths):\n",
    "# Load training data for patient\n",
    "\n",
    "\n",
    "    X = []\n",
    "    Y = []\n",
    "\n",
    "    print('...loading train data')\n",
    "    start = time.time()\n",
    "\n",
    "    for path in sorted(glob.glob(paths), key=numericalSort):\n",
    "        X.append(sio.loadmat(path))\n",
    "        Y.append(int(path[-5]))\n",
    "    \n",
    "    Y = numpy.array(Y)\n",
    "    print('time elapsed: %s sec' %(time.time() - start))\n",
    "    \n",
    "    \n",
    "    return(X, Y)"
   ]
  },
  {
   "cell_type": "code",
   "execution_count": 3,
   "metadata": {
    "collapsed": true
   },
   "outputs": [],
   "source": [
    "def load_patient_test_data(paths):\n",
    "# Load training data for patient\n",
    "\n",
    "\n",
    "    X = []\n",
    "    file_array = []\n",
    "\n",
    "    print('...loading test data')\n",
    "    start = time.time()\n",
    "\n",
    "    for path in sorted(glob.glob(paths), key=numericalSort):\n",
    "        X.append(sio.loadmat(path))\n",
    "        file_array.append(os.path.split(path)[1])\n",
    "    \n",
    "    print('time elapsed: %s sec' %(time.time() - start))\n",
    "    \n",
    "    \n",
    "    return(X, file_array)"
   ]
  },
  {
   "cell_type": "code",
   "execution_count": 4,
   "metadata": {
    "collapsed": true
   },
   "outputs": [],
   "source": [
    "def get_channel1_data(X):\n",
    "# extract data from channel 1    \n",
    "    \n",
    "    \n",
    "    data_channel1 = numpy.zeros([240000, len(X)])\n",
    "\n",
    "    for i in xrange(len(X)):\n",
    "        data_channel1[:,i] = X[i]['dataStruct']['data'][0][0][:,0]\n",
    "    \n",
    "    \n",
    "    return(data_channel1)"
   ]
  },
  {
   "cell_type": "code",
   "execution_count": 5,
   "metadata": {
    "collapsed": true
   },
   "outputs": [],
   "source": [
    "# The numericalSort function splits out any digits in a filename, \n",
    "# turns it into an actual number, and returns the result for sorting\n",
    "\n",
    "import re\n",
    "numbers = re.compile(r'(\\d+)')\n",
    "def numericalSort(value):\n",
    "    parts = numbers.split(value)\n",
    "    parts[1::2] = map(int, parts[1::2])\n",
    "    return parts"
   ]
  },
  {
   "cell_type": "code",
   "execution_count": 6,
   "metadata": {
    "collapsed": true
   },
   "outputs": [],
   "source": [
    "def n_sample_fft(X, samples, index):\n",
    "    \n",
    "    num_freq= 240000\n",
    "    channels = 16\n",
    "    X_fft = numpy.zeros([samples, num_freq, channels])\n",
    "\n",
    "    for i in xrange(samples):\n",
    "            X_fft[i,:,:] = numpy.absolute(numpy.fft.fft(X[i+index]['dataStruct']['data'][0][0], axis=0))\n",
    "            \n",
    "    return X_fft"
   ]
  },
  {
   "cell_type": "code",
   "execution_count": 7,
   "metadata": {
    "collapsed": true
   },
   "outputs": [],
   "source": [
    "def n_sample_half_power_freq(X_fft, samples):\n",
    "\n",
    "    channels = 16\n",
    "    power_percentage = 0.5\n",
    "    half_pwr_freq = numpy.zeros([samples, channels])\n",
    "\n",
    "    for i in xrange(samples):\n",
    "\n",
    "        #X_sample_pwr = numpy.linalg.norm(X_fft[i,:,j:j+1], axis=1)*numpy.linalg.norm(X_fft[i,:,j:j+1], axis=1)/float(X_fft.shape[1])\n",
    "        X_sample_pwr = X_fft[i,:,:]*X_fft[i,:,:]/float(X_fft.shape[1])\n",
    "        X_sample_pwr_sum = numpy.sum(X_sample_pwr[0:N/2], axis=0)\n",
    "\n",
    "        for j in xrange(channels):\n",
    "            S = 0\n",
    "            for k in xrange(X_sample_pwr.shape[0]):\n",
    "                if S >= X_sample_pwr_sum[j]*power_percentage:\n",
    "                    half_pwr_freq[i,j] = xf[k]\n",
    "                    break \n",
    "                S = S + X_sample_pwr[k,j]\n",
    "                \n",
    "    return half_pwr_freq"
   ]
  },
  {
   "cell_type": "code",
   "execution_count": 8,
   "metadata": {
    "collapsed": false
   },
   "outputs": [
    {
     "name": "stdout",
     "output_type": "stream",
     "text": [
      "...loading train data\n",
      "time elapsed: 106.374000072 sec\n"
     ]
    }
   ],
   "source": [
    "# load training data\n",
    "X_train1, Y_train1 = load_patient_train_data('F:/Kaggle/Seizure Prediction/train_1/*.mat')"
   ]
  },
  {
   "cell_type": "code",
   "execution_count": 9,
   "metadata": {
    "collapsed": true
   },
   "outputs": [],
   "source": [
    "# frequency bands of interest\n",
    "# delta, theta, alpha, beta, gamma respectively \n",
    "frequency_bins = numpy.array([0.5, 4, 7, 12, 30, 100])"
   ]
  },
  {
   "cell_type": "code",
   "execution_count": 11,
   "metadata": {
    "collapsed": false
   },
   "outputs": [
    {
     "name": "stdout",
     "output_type": "stream",
     "text": [
      "batch number: 0\n"
     ]
    },
    {
     "name": "stderr",
     "output_type": "stream",
     "text": [
      "C:\\Users\\Ikes\\Anaconda2\\lib\\site-packages\\ipykernel\\__main__.py:39: RuntimeWarning: invalid value encountered in divide\n"
     ]
    },
    {
     "name": "stdout",
     "output_type": "stream",
     "text": [
      "batch number: 1\n",
      "batch number: 2\n",
      "batch number: 3\n",
      "batch number: 4\n",
      "batch number: 5\n",
      "batch number: 6\n",
      "batch number: 7\n",
      "batch number: 8\n",
      "batch number: 9\n"
     ]
    }
   ],
   "source": [
    "# compute half power frequency for each sample (1-3000) and each channel (1-16)\n",
    "bins = 10\n",
    "X_train1_len = 1300\n",
    "channels = 16\n",
    "\n",
    "N = 240000\n",
    "# sample spacing\n",
    "T = 1.0 / 400.0\n",
    "xf = numpy.linspace(0.0, 1.0/(2.0*T), N/2)\n",
    "\n",
    "# create list (1 to 1300)\n",
    "X_train1_index = numpy.linspace(0, X_train1_len-1, X_train1_len-1)\n",
    "# Separate created list into 10 bins. The size of these bins is used to perform batch computation of FFT\n",
    "# and half-power frequency calulation\n",
    "# Calculation is far from optimized\n",
    "data_bins = numpy.histogram(X_train1_index, bins=bins)\n",
    "index = 0\n",
    "PSI = numpy.zeros([X_train1_len, len(frequency_bins)-1, channels])\n",
    "RIR = numpy.zeros([X_train1_len, len(frequency_bins)-1, channels])\n",
    "\n",
    "\n",
    "for bin in xrange(bins):\n",
    "    print('batch number: %s' %(bin))\n",
    "    fft_batch = n_sample_fft(X_train1, data_bins[0][bin], index)\n",
    "    \n",
    "    for i in xrange(len(frequency_bins)-1):\n",
    "        bin_start = numpy.where((frequency_bins[i+1] >= xf) & (xf >= frequency_bins[i]))[0][0]\n",
    "        bin_end = numpy.where((frequency_bins[i+1] >= xf) & (xf >= frequency_bins[i]))[0][-1]\n",
    "        PSI[index:index + data_bins[0][bin], i, :] = numpy.real(numpy.sum(numpy.absolute(fft_batch[:, bin_start: bin_end, :]), \n",
    "                                                                       axis=1))\n",
    "    \n",
    "    \n",
    "    PSI_batch_sum = numpy.sum(PSI[index:index + data_bins[0][bin], :, :], axis=1)\n",
    "    PSI_batch_sum_array = numpy.zeros([data_bins[0][bin], len(frequency_bins) -1, channels])\n",
    "    \n",
    "    for i in xrange(len(frequency_bins) -1):\n",
    "        PSI_batch_sum_array[:, i, :] = PSI_batch_sum \n",
    "    \n",
    "    RIR[index:index + data_bins[0][bin], :, :] = PSI[index:index + data_bins[0][bin], :, :]/PSI_batch_sum_array\n",
    "    \n",
    "    \n",
    "    index = index + data_bins[0][i]"
   ]
  },
  {
   "cell_type": "code",
   "execution_count": null,
   "metadata": {
    "collapsed": true
   },
   "outputs": [],
   "source": []
  }
 ],
 "metadata": {
  "anaconda-cloud": {},
  "kernelspec": {
   "display_name": "Python [Root]",
   "language": "python",
   "name": "Python [Root]"
  },
  "language_info": {
   "codemirror_mode": {
    "name": "ipython",
    "version": 2
   },
   "file_extension": ".py",
   "mimetype": "text/x-python",
   "name": "python",
   "nbconvert_exporter": "python",
   "pygments_lexer": "ipython2",
   "version": "2.7.12"
  }
 },
 "nbformat": 4,
 "nbformat_minor": 0
}
