{
 "cells": [
  {
   "cell_type": "code",
   "execution_count": 1,
   "metadata": {
    "collapsed": true
   },
   "outputs": [],
   "source": [
    "import scipy.io as sio\n",
    "import glob\n",
    "import numpy\n",
    "import time"
   ]
  },
  {
   "cell_type": "code",
   "execution_count": 2,
   "metadata": {
    "collapsed": true
   },
   "outputs": [],
   "source": [
    "def load_patient_train_data(paths):\n",
    "# Load training data for patient\n",
    "\n",
    "\n",
    "    X = []\n",
    "    Y = []\n",
    "\n",
    "    print('...loading train data')\n",
    "    start = time.time()\n",
    "\n",
    "    for path in sorted(glob.glob(paths), key=numericalSort):\n",
    "        X.append(sio.loadmat(path))\n",
    "        Y.append(int(path[-5]))\n",
    "    \n",
    "    Y = numpy.array(Y)\n",
    "    print('time elapsed: %s sec' %(time.time() - start))\n",
    "    \n",
    "    \n",
    "    return(X, Y)"
   ]
  },
  {
   "cell_type": "code",
   "execution_count": 3,
   "metadata": {
    "collapsed": true
   },
   "outputs": [],
   "source": [
    "# The numericalSort function splits out any digits in a filename, \n",
    "# turns it into an actual number, and returns the result for sorting\n",
    "\n",
    "import re\n",
    "numbers = re.compile(r'(\\d+)')\n",
    "def numericalSort(value):\n",
    "    parts = numbers.split(value)\n",
    "    parts[1::2] = map(int, parts[1::2])\n",
    "    return parts"
   ]
  },
  {
   "cell_type": "code",
   "execution_count": 4,
   "metadata": {
    "collapsed": true
   },
   "outputs": [],
   "source": [
    "# Find samples of training set X that contain no data, or consist entirely of zeros\n",
    "def find_zero_index(X):\n",
    "    zero_index = []\n",
    "    print('...locating zero-data')\n",
    "    \n",
    "    for i in xrange(len(X)):\n",
    "        if numpy.sum(numpy.absolute(X[i]['dataStruct']['data'][0][0])) == 0:\n",
    "            zero_index.append(i)\n",
    "    \n",
    "    return zero_index"
   ]
  },
  {
   "cell_type": "code",
   "execution_count": 5,
   "metadata": {
    "collapsed": true
   },
   "outputs": [],
   "source": [
    "# remove all-zero data\n",
    "# X must be list, Y can be numpy array which is cast to a list, and cast back to numpy array upon return\n",
    "def remove_zero_data(X, Y):\n",
    "    \n",
    "    zero_index = find_zero_index(X)\n",
    "    index_correction = 0\n",
    "    # index_correction is needed because every time element is deleted from a list the following elements are shifted\n",
    "    # EX: if 2nd element is deleted, the 3rd element becomes the 2nd, the 4th becomes the 3rd, etc.\n",
    "    Y = list(Y)\n",
    "    print('...removing zero-data')\n",
    "    for i in xrange(len(zero_index)):\n",
    "\n",
    "        del X[zero_index[i] - index_correction]\n",
    "        del Y[zero_index[i] - index_correction]\n",
    "\n",
    "        index_correction += 1\n",
    "   \n",
    "    Y = numpy.array(Y)\n",
    "    return(X, Y)"
   ]
  },
  {
   "cell_type": "code",
   "execution_count": 6,
   "metadata": {
    "collapsed": false
   },
   "outputs": [
    {
     "name": "stdout",
     "output_type": "stream",
     "text": [
      "...loading train data\n",
      "time elapsed: 107.023999929 sec\n"
     ]
    }
   ],
   "source": [
    "# load training data\n",
    "X_train1, Y_train1 = load_patient_train_data('F:/Kaggle/Seizure Prediction/train_1/*.mat')"
   ]
  },
  {
   "cell_type": "code",
   "execution_count": null,
   "metadata": {
    "collapsed": false
   },
   "outputs": [
    {
     "name": "stdout",
     "output_type": "stream",
     "text": [
      "...locating zero-data\n"
     ]
    }
   ],
   "source": [
    "X_train_clean, Y_train1_clean = remove_zero_data(X_train1, Y_train1)"
   ]
  },
  {
   "cell_type": "code",
   "execution_count": null,
   "metadata": {
    "collapsed": true
   },
   "outputs": [],
   "source": []
  }
 ],
 "metadata": {
  "kernelspec": {
   "display_name": "Python [Root]",
   "language": "python",
   "name": "Python [Root]"
  },
  "language_info": {
   "codemirror_mode": {
    "name": "ipython",
    "version": 2
   },
   "file_extension": ".py",
   "mimetype": "text/x-python",
   "name": "python",
   "nbconvert_exporter": "python",
   "pygments_lexer": "ipython2",
   "version": "2.7.12"
  }
 },
 "nbformat": 4,
 "nbformat_minor": 0
}
