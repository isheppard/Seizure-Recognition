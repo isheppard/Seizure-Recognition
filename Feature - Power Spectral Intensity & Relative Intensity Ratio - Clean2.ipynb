{
 "cells": [
  {
   "cell_type": "markdown",
   "metadata": {},
   "source": [
    "## reference link (PYEEG)\n",
    "https://www.ncbi.nlm.nih.gov/pmc/articles/PMC3070217/"
   ]
  },
  {
   "cell_type": "code",
   "execution_count": 1,
   "metadata": {
    "collapsed": true
   },
   "outputs": [],
   "source": [
    "import scipy.io as sio\n",
    "import glob\n",
    "import numpy\n",
    "import time"
   ]
  },
  {
   "cell_type": "code",
   "execution_count": 2,
   "metadata": {
    "collapsed": true
   },
   "outputs": [],
   "source": [
    "def load_patient_train_data(paths):\n",
    "# Load training data for patient\n",
    "\n",
    "\n",
    "    X = []\n",
    "    Y = []\n",
    "\n",
    "    print('...loading train data')\n",
    "    start = time.time()\n",
    "\n",
    "    for path in sorted(glob.glob(paths), key=numericalSort):\n",
    "        X.append(sio.loadmat(path))\n",
    "        Y.append(int(path[-5]))\n",
    "    \n",
    "    Y = numpy.array(Y)\n",
    "    print('time elapsed: %s sec' %(time.time() - start))\n",
    "    \n",
    "    \n",
    "    return(X, Y)"
   ]
  },
  {
   "cell_type": "code",
   "execution_count": 3,
   "metadata": {
    "collapsed": true
   },
   "outputs": [],
   "source": [
    "def load_patient_test_data(paths):\n",
    "# Load training data for patient\n",
    "\n",
    "\n",
    "    X = []\n",
    "    file_array = []\n",
    "\n",
    "    print('...loading test data')\n",
    "    start = time.time()\n",
    "\n",
    "    for path in sorted(glob.glob(paths), key=numericalSort):\n",
    "        X.append(sio.loadmat(path))\n",
    "        file_array.append(os.path.split(path)[1])\n",
    "    \n",
    "    print('time elapsed: %s sec' %(time.time() - start))\n",
    "    \n",
    "    \n",
    "    return(X, file_array)"
   ]
  },
  {
   "cell_type": "code",
   "execution_count": 4,
   "metadata": {
    "collapsed": true
   },
   "outputs": [],
   "source": [
    "# The numericalSort function splits out any digits in a filename, \n",
    "# turns it into an actual number, and returns the result for sorting\n",
    "\n",
    "import re\n",
    "numbers = re.compile(r'(\\d+)')\n",
    "def numericalSort(value):\n",
    "    parts = numbers.split(value)\n",
    "    parts[1::2] = map(int, parts[1::2])\n",
    "    return parts"
   ]
  },
  {
   "cell_type": "code",
   "execution_count": 11,
   "metadata": {
    "collapsed": true
   },
   "outputs": [],
   "source": [
    "def new2_n_sample_fft(X, samples, index):\n",
    "    \n",
    "    start = time.time()\n",
    "    num_freq= 240000/2 + 1\n",
    "    channels = 16\n",
    "    X_fft = numpy.zeros([samples, num_freq, channels])\n",
    "\n",
    "    for sample in xrange(samples):\n",
    "            X_fft[sample,:,:] = numpy.fft.rfft(X[sample+index]['dataStruct']['data'][0][0], axis=0)\n",
    "            \n",
    "    X_fft = numpy.absolute(X_fft)\n",
    "    \n",
    "    print('time elapsed: %s sec' %(time.time() - start))\n",
    "    return X_fft"
   ]
  },
  {
   "cell_type": "code",
   "execution_count": 6,
   "metadata": {
    "collapsed": true
   },
   "outputs": [],
   "source": [
    "# Find samples of training set X that contain no data, or consist entirely of zeros\n",
    "def find_zero_index(X):\n",
    "    zero_index = []\n",
    "    print('...locating zero-data')\n",
    "    \n",
    "    for i in xrange(len(X)):\n",
    "        if numpy.sum(numpy.absolute(X[i]['dataStruct']['data'][0][0])) == 0:\n",
    "            zero_index.append(i)\n",
    "    \n",
    "    return zero_index"
   ]
  },
  {
   "cell_type": "code",
   "execution_count": 7,
   "metadata": {
    "collapsed": true
   },
   "outputs": [],
   "source": [
    "# remove all-zero data\n",
    "# X must be list, Y can be numpy array which is cast to a list, and cast back to numpy array upon return\n",
    "def remove_zero_data(X, Y):\n",
    "    \n",
    "    zero_index = find_zero_index(X)\n",
    "    index_correction = 0\n",
    "    # index_correction is needed because every time element is deleted from a list the following elements are shifted\n",
    "    # EX: if 2nd element is deleted, the 3rd element becomes the 2nd, the 4th becomes the 3rd, etc.\n",
    "    Y = list(Y)\n",
    "    print('...removing zero-data')\n",
    "    \n",
    "    for i in xrange(len(zero_index)):\n",
    "\n",
    "        del X[zero_index[i] - index_correction]\n",
    "        del Y[zero_index[i] - index_correction]\n",
    "\n",
    "        index_correction += 1\n",
    "   \n",
    "    Y = numpy.array(Y)\n",
    "    return(X, Y)"
   ]
  },
  {
   "cell_type": "code",
   "execution_count": 8,
   "metadata": {
    "collapsed": false
   },
   "outputs": [
    {
     "name": "stdout",
     "output_type": "stream",
     "text": [
      "...loading train data\n",
      "time elapsed: 115.257999897 sec\n"
     ]
    }
   ],
   "source": [
    "# load training data\n",
    "X_train1, Y_train1 = load_patient_train_data('F:/Kaggle/Seizure Prediction/train_1/*.mat')"
   ]
  },
  {
   "cell_type": "code",
   "execution_count": 9,
   "metadata": {
    "collapsed": false
   },
   "outputs": [
    {
     "name": "stdout",
     "output_type": "stream",
     "text": [
      "...locating zero-data\n",
      "...removing zero-data\n"
     ]
    }
   ],
   "source": [
    "X_train1, Y_train1 = remove_zero_data(X_train1, Y_train1)"
   ]
  },
  {
   "cell_type": "code",
   "execution_count": 12,
   "metadata": {
    "collapsed": false
   },
   "outputs": [
    {
     "name": "stdout",
     "output_type": "stream",
     "text": [
      "batch number: 0\n"
     ]
    },
    {
     "name": "stderr",
     "output_type": "stream",
     "text": [
      "C:\\Users\\Ikes\\Anaconda2\\lib\\site-packages\\ipykernel\\__main__.py:9: ComplexWarning: Casting complex values to real discards the imaginary part\n"
     ]
    },
    {
     "name": "stdout",
     "output_type": "stream",
     "text": [
      "time elapsed: 13.1819999218 sec\n",
      "batch number: 1\n",
      "time elapsed: 13.1590001583 sec\n",
      "batch number: 2\n",
      "time elapsed: 13.4600000381 sec\n",
      "batch number: 3\n",
      "time elapsed: 13.2999999523 sec\n",
      "batch number: 4\n",
      "time elapsed: 12.6069998741 sec\n",
      "batch number: 5\n",
      "time elapsed: 11.6429998875 sec\n",
      "batch number: 6\n",
      "time elapsed: 12.3410000801 sec\n",
      "batch number: 7\n",
      "time elapsed: 13.117000103 sec\n",
      "batch number: 8\n",
      "time elapsed: 13.378000021 sec\n",
      "batch number: 9\n",
      "time elapsed: 13.5769999027 sec\n"
     ]
    }
   ],
   "source": [
    "# compute PSI and RIR\n",
    "\n",
    "# frequency bands of interest\n",
    "# delta, theta, alpha, beta, gamma respectively \n",
    "frequency_bins = numpy.array([0.5, 4, 7, 12, 30, 100])\n",
    "\n",
    "bins = 10\n",
    "X_train1_len = len(X_train1)\n",
    "channels = 16\n",
    "\n",
    "N = 240000/2 + 1\n",
    "# sample spacing\n",
    "T = 1.0 / 400.0\n",
    "xf = numpy.linspace(0.0, 1.0/(2.0*T), N/2)\n",
    "\n",
    "# create list (1 to 1300)\n",
    "X_train1_index = numpy.linspace(0, X_train1_len-1, X_train1_len-1)\n",
    "# Separate created list into 10 bins. The size of these bins is used to perform batch computation of FFT\n",
    "# and half-power frequency calulation\n",
    "# Calculation is far from optimized\n",
    "data_bins = numpy.histogram(X_train1_index, bins=bins)\n",
    "index = 0\n",
    "PSI = numpy.zeros([X_train1_len, len(frequency_bins)-1, channels])\n",
    "RIR = numpy.zeros([X_train1_len, len(frequency_bins)-1, channels])\n",
    "\n",
    "\n",
    "for bin in xrange(bins):\n",
    "    print('batch number: %s' %(bin))\n",
    "    fft_batch = new2_n_sample_fft(X_train1, data_bins[0][bin], index)\n",
    "    \n",
    "    for i in xrange(len(frequency_bins)-1):\n",
    "        bin_start = numpy.where((frequency_bins[i+1] >= xf) & (xf >= frequency_bins[i]))[0][0]\n",
    "        bin_end = numpy.where((frequency_bins[i+1] >= xf) & (xf >= frequency_bins[i]))[0][-1]\n",
    "        PSI[index:index + data_bins[0][bin], i, :] = numpy.real(numpy.sum(numpy.absolute(fft_batch[:, bin_start: bin_end, :]), \n",
    "                                                                       axis=1))\n",
    "    \n",
    "    \n",
    "    PSI_batch_sum = numpy.sum(PSI[index:index + data_bins[0][bin], :, :], axis=1)\n",
    "    PSI_batch_sum_array = numpy.ones([data_bins[0][bin], len(frequency_bins) -1, channels])\n",
    "    \n",
    "    for i in xrange(len(frequency_bins) -1):\n",
    "        PSI_batch_sum_array[:, i, :] = PSI_batch_sum \n",
    "    \n",
    "    RIR[index:index + data_bins[0][bin], :, :] = PSI[index:index + data_bins[0][bin], :, :]/PSI_batch_sum_array\n",
    "    index = index + data_bins[0][bin]"
   ]
  },
  {
   "cell_type": "code",
   "execution_count": 13,
   "metadata": {
    "collapsed": true
   },
   "outputs": [],
   "source": [
    "numpy.save('F:/Kaggle/Seizure Prediction/features/FEATURE_train1_power_spectral_intensity', PSI)\n",
    "numpy.save('F:/Kaggle/Seizure Prediction/features/FEATURE_train1_relative_intensity_ratio', RIR)"
   ]
  },
  {
   "cell_type": "code",
   "execution_count": null,
   "metadata": {
    "collapsed": true
   },
   "outputs": [],
   "source": []
  }
 ],
 "metadata": {
  "anaconda-cloud": {},
  "kernelspec": {
   "display_name": "Python [Root]",
   "language": "python",
   "name": "Python [Root]"
  },
  "language_info": {
   "codemirror_mode": {
    "name": "ipython",
    "version": 2
   },
   "file_extension": ".py",
   "mimetype": "text/x-python",
   "name": "python",
   "nbconvert_exporter": "python",
   "pygments_lexer": "ipython2",
   "version": "2.7.12"
  }
 },
 "nbformat": 4,
 "nbformat_minor": 0
}
