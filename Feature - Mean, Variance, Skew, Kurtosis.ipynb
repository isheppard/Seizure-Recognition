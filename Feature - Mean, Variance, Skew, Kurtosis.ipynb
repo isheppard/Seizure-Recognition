{
 "cells": [
  {
   "cell_type": "code",
   "execution_count": 1,
   "metadata": {
    "collapsed": true
   },
   "outputs": [],
   "source": [
    "import scipy.io as sio\n",
    "import glob\n",
    "import numpy\n",
    "import time"
   ]
  },
  {
   "cell_type": "code",
   "execution_count": 2,
   "metadata": {
    "collapsed": true
   },
   "outputs": [],
   "source": [
    "def load_patient_train_data(paths):\n",
    "# Load training data for patient\n",
    "\n",
    "\n",
    "    X = []\n",
    "    Y = []\n",
    "\n",
    "    print('...loading train data')\n",
    "    start = time.time()\n",
    "\n",
    "    for path in sorted(glob.glob(paths), key=numericalSort):\n",
    "        X.append(sio.loadmat(path))\n",
    "        Y.append(int(path[-5]))\n",
    "    \n",
    "    Y = numpy.array(Y)\n",
    "    print('time elapsed: %s sec' %(time.time() - start))\n",
    "    \n",
    "    \n",
    "    return(X, Y)"
   ]
  },
  {
   "cell_type": "code",
   "execution_count": 3,
   "metadata": {
    "collapsed": true
   },
   "outputs": [],
   "source": [
    "def load_patient_test_data(paths):\n",
    "# Load training data for patient\n",
    "\n",
    "\n",
    "    X = []\n",
    "    file_array = []\n",
    "\n",
    "    print('...loading test data')\n",
    "    start = time.time()\n",
    "\n",
    "    for path in sorted(glob.glob(paths), key=numericalSort):\n",
    "        X.append(sio.loadmat(path))\n",
    "        file_array.append(os.path.split(path)[1])\n",
    "    \n",
    "    print('time elapsed: %s sec' %(time.time() - start))\n",
    "    \n",
    "    \n",
    "    return(X, file_array)"
   ]
  },
  {
   "cell_type": "code",
   "execution_count": 4,
   "metadata": {
    "collapsed": true
   },
   "outputs": [],
   "source": [
    "def get_channel1_data(X):\n",
    "# extract data from channel 1    \n",
    "    \n",
    "    \n",
    "    data_channel1 = numpy.zeros([240000, len(X)])\n",
    "\n",
    "    for i in xrange(len(X)):\n",
    "        data_channel1[:,i] = X[i]['dataStruct']['data'][0][0][:,0]\n",
    "    \n",
    "    \n",
    "    return(data_channel1)"
   ]
  },
  {
   "cell_type": "code",
   "execution_count": 5,
   "metadata": {
    "collapsed": true
   },
   "outputs": [],
   "source": [
    "# The numericalSort function splits out any digits in a filename, \n",
    "# turns it into an actual number, and returns the result for sorting\n",
    "\n",
    "import re\n",
    "numbers = re.compile(r'(\\d+)')\n",
    "def numericalSort(value):\n",
    "    parts = numbers.split(value)\n",
    "    parts[1::2] = map(int, parts[1::2])\n",
    "    return parts"
   ]
  },
  {
   "cell_type": "code",
   "execution_count": 6,
   "metadata": {
    "collapsed": false
   },
   "outputs": [
    {
     "name": "stdout",
     "output_type": "stream",
     "text": [
      "...loading train data\n",
      "time elapsed: 117.410000086 sec\n"
     ]
    }
   ],
   "source": [
    "# load training data\n",
    "X_train1, Y_train1 = load_patient_train_data('F:/Kaggle/Seizure Prediction/train_1/*.mat')"
   ]
  },
  {
   "cell_type": "code",
   "execution_count": 7,
   "metadata": {
    "collapsed": false
   },
   "outputs": [
    {
     "data": {
      "text/plain": [
       "1300"
      ]
     },
     "execution_count": 7,
     "metadata": {},
     "output_type": "execute_result"
    }
   ],
   "source": [
    "len(Y_train1)"
   ]
  },
  {
   "cell_type": "code",
   "execution_count": 9,
   "metadata": {
    "collapsed": false
   },
   "outputs": [
    {
     "data": {
      "text/plain": [
       "(240000L, 16L)"
      ]
     },
     "execution_count": 9,
     "metadata": {},
     "output_type": "execute_result"
    }
   ],
   "source": [
    "X_train1[0]['dataStruct']['data'][0][0].shape"
   ]
  },
  {
   "cell_type": "code",
   "execution_count": 10,
   "metadata": {
    "collapsed": true
   },
   "outputs": [],
   "source": [
    "samples = len(Y_train1)\n",
    "channels = 16\n",
    "mean_train1 = numpy.zeros([samples, channels])\n",
    "\n",
    "for sample in xrange(samples):\n",
    "    for channel in xrange(channels):\n",
    "        mean_train1[sample, channel] = numpy.mean(X_train1[sample]['dataStruct']['data'][0][0][:, channel])"
   ]
  },
  {
   "cell_type": "code",
   "execution_count": 11,
   "metadata": {
    "collapsed": false
   },
   "outputs": [
    {
     "data": {
      "text/plain": [
       "(1300L, 16L)"
      ]
     },
     "execution_count": 11,
     "metadata": {},
     "output_type": "execute_result"
    }
   ],
   "source": [
    "mean_train1.shape"
   ]
  },
  {
   "cell_type": "code",
   "execution_count": 13,
   "metadata": {
    "collapsed": false
   },
   "outputs": [
    {
     "data": {
      "text/plain": [
       "8.4431969e-07"
      ]
     },
     "execution_count": 13,
     "metadata": {},
     "output_type": "execute_result"
    }
   ],
   "source": [
    "numpy.mean(X_train1[0]['dataStruct']['data'][0][0][:, 0])"
   ]
  },
  {
   "cell_type": "code",
   "execution_count": 14,
   "metadata": {
    "collapsed": false
   },
   "outputs": [
    {
     "data": {
      "text/plain": [
       "0.20263672"
      ]
     },
     "execution_count": 14,
     "metadata": {},
     "output_type": "execute_result"
    }
   ],
   "source": [
    "numpy.sum(X_train1[0]['dataStruct']['data'][0][0][:, 0])"
   ]
  },
  {
   "cell_type": "code",
   "execution_count": 16,
   "metadata": {
    "collapsed": false
   },
   "outputs": [
    {
     "data": {
      "text/plain": [
       "8.4431966145833331e-07"
      ]
     },
     "execution_count": 16,
     "metadata": {},
     "output_type": "execute_result"
    }
   ],
   "source": [
    "numpy.sum(X_train1[0]['dataStruct']['data'][0][0][:, 0])/float(240000)"
   ]
  },
  {
   "cell_type": "code",
   "execution_count": 17,
   "metadata": {
    "collapsed": false
   },
   "outputs": [
    {
     "data": {
      "text/plain": [
       "array([  8.44319686e-07,  -8.06681328e-07,  -4.17073579e-07,\n",
       "        -3.82486974e-07,   5.47281900e-07,  -1.10270184e-06,\n",
       "        -1.11592612e-06,   1.23697919e-06,  -8.13802075e-08,\n",
       "         8.91113302e-07])"
      ]
     },
     "execution_count": 17,
     "metadata": {},
     "output_type": "execute_result"
    }
   ],
   "source": [
    "mean_train1[0:10,0]"
   ]
  },
  {
   "cell_type": "code",
   "execution_count": 18,
   "metadata": {
    "collapsed": true
   },
   "outputs": [],
   "source": [
    "# most likely these values oscillate around 0 so let's take abs(X) instead\n",
    "samples = len(Y_train1)\n",
    "channels = 16\n",
    "mean_train1 = numpy.zeros([samples, channels])\n",
    "\n",
    "for sample in xrange(samples):\n",
    "    for channel in xrange(channels):\n",
    "        mean_train1[sample, channel] = numpy.mean(numpy.absolute(X_train1[sample]['dataStruct']['data'][0][0][:, channel]))"
   ]
  },
  {
   "cell_type": "code",
   "execution_count": 19,
   "metadata": {
    "collapsed": false
   },
   "outputs": [
    {
     "data": {
      "text/plain": [
       "array([ 25.07297707,  29.28290176,  20.03593636,  27.96895599,\n",
       "        25.06256676,  23.67510223,  26.57349777,  25.45344162,\n",
       "        20.55765343,  24.8100853 ])"
      ]
     },
     "execution_count": 19,
     "metadata": {},
     "output_type": "execute_result"
    }
   ],
   "source": [
    "mean_train1[0:10,0]"
   ]
  },
  {
   "cell_type": "code",
   "execution_count": 20,
   "metadata": {
    "collapsed": true
   },
   "outputs": [],
   "source": [
    "# compute variance on dataset\n",
    "samples = len(Y_train1)\n",
    "channels = 16\n",
    "variance_train1 = numpy.zeros([samples, channels])\n",
    "\n",
    "for sample in xrange(samples):\n",
    "    for channel in xrange(channels):\n",
    "        variance_train1[sample, channel] = numpy.var(X_train1[sample]['dataStruct']['data'][0][0][:, channel])"
   ]
  },
  {
   "cell_type": "code",
   "execution_count": 21,
   "metadata": {
    "collapsed": false
   },
   "outputs": [
    {
     "data": {
      "text/plain": [
       "array([ 1102.56604004,  1469.39245605,   670.84771729,  1375.37243652,\n",
       "        1094.80200195,  1006.19824219,  1212.58251953,  1138.57958984,\n",
       "         982.41186523,  1067.45507812])"
      ]
     },
     "execution_count": 21,
     "metadata": {},
     "output_type": "execute_result"
    }
   ],
   "source": [
    "variance_train1[0:10,0]"
   ]
  },
  {
   "cell_type": "code",
   "execution_count": 24,
   "metadata": {
    "collapsed": true
   },
   "outputs": [],
   "source": [
    "import matplotlib.pyplot as plt"
   ]
  },
  {
   "cell_type": "code",
   "execution_count": 27,
   "metadata": {
    "collapsed": false
   },
   "outputs": [],
   "source": [
    "plt.plot(mean_train1[0:,0], variance_train1[0:,0], \"o\")\n",
    "plt.show()"
   ]
  },
  {
   "cell_type": "code",
   "execution_count": 28,
   "metadata": {
    "collapsed": false
   },
   "outputs": [
    {
     "data": {
      "text/plain": [
       "array([0, 1, 0, ..., 0, 0, 0])"
      ]
     },
     "execution_count": 28,
     "metadata": {},
     "output_type": "execute_result"
    }
   ],
   "source": [
    "Y_train1"
   ]
  },
  {
   "cell_type": "code",
   "execution_count": 34,
   "metadata": {
    "collapsed": true
   },
   "outputs": [],
   "source": [
    "pos_mean_train1 = mean_train1[Y_train1 == 1]\n",
    "neg_mean_train1 = mean_train1[Y_train1 == 0]\n",
    "\n",
    "pos_variance_train1 = variance_train1[Y_train1 == 1]\n",
    "neg_variance_train1 = variance_train1[Y_train1 == 0]"
   ]
  },
  {
   "cell_type": "code",
   "execution_count": 31,
   "metadata": {
    "collapsed": false
   },
   "outputs": [
    {
     "data": {
      "text/plain": [
       "(149L, 16L)"
      ]
     },
     "execution_count": 31,
     "metadata": {},
     "output_type": "execute_result"
    }
   ],
   "source": [
    "pos_mean_train1.shape"
   ]
  },
  {
   "cell_type": "code",
   "execution_count": 32,
   "metadata": {
    "collapsed": false
   },
   "outputs": [
    {
     "data": {
      "text/plain": [
       "149"
      ]
     },
     "execution_count": 32,
     "metadata": {},
     "output_type": "execute_result"
    }
   ],
   "source": [
    "Y_train1.sum()"
   ]
  },
  {
   "cell_type": "code",
   "execution_count": 36,
   "metadata": {
    "collapsed": true
   },
   "outputs": [],
   "source": [
    "plt.plot(pos_mean_train1[0:,0], pos_variance_train1[0:,0], \"o\", neg_mean_train1[0:,0], neg_variance_train1[0:,0], \"x\")\n",
    "plt.show()"
   ]
  },
  {
   "cell_type": "code",
   "execution_count": 40,
   "metadata": {
    "collapsed": false
   },
   "outputs": [],
   "source": [
    "from scipy import stats"
   ]
  },
  {
   "cell_type": "code",
   "execution_count": 41,
   "metadata": {
    "collapsed": false
   },
   "outputs": [],
   "source": [
    "a = scipy.stats.skew(X_train1[0]['dataStruct']['data'][0][0][:, 0])"
   ]
  },
  {
   "cell_type": "code",
   "execution_count": 42,
   "metadata": {
    "collapsed": false
   },
   "outputs": [
    {
     "data": {
      "text/plain": [
       "-0.2616947293281555"
      ]
     },
     "execution_count": 42,
     "metadata": {},
     "output_type": "execute_result"
    }
   ],
   "source": [
    "a"
   ]
  },
  {
   "cell_type": "code",
   "execution_count": 44,
   "metadata": {
    "collapsed": true
   },
   "outputs": [],
   "source": [
    "import time"
   ]
  },
  {
   "cell_type": "code",
   "execution_count": 46,
   "metadata": {
    "collapsed": false
   },
   "outputs": [
    {
     "data": {
      "text/plain": [
       "0.0"
      ]
     },
     "execution_count": 46,
     "metadata": {},
     "output_type": "execute_result"
    }
   ],
   "source": [
    "start = time.time()\n",
    "end = time.time() - start\n",
    "end"
   ]
  },
  {
   "cell_type": "code",
   "execution_count": 43,
   "metadata": {
    "collapsed": true
   },
   "outputs": [],
   "source": [
    "# compute variance on dataset\n",
    "samples = len(Y_train1)\n",
    "channels = 16\n",
    "skew_train1 = numpy.zeros([samples, channels])\n",
    "\n",
    "print('calculating ...')\n",
    "start = time.time()\n",
    "\n",
    "\n",
    "for sample in xrange(samples):\n",
    "    for channel in xrange(channels):\n",
    "        skew_train1[sample, channel] = scipy.stats.skew(X_train1[sample]['dataStruct']['data'][0][0][:, channel])\n",
    "     \n",
    "    \n",
    "print('time elapsed: %s sec' %(time.time() - start))"
   ]
  },
  {
   "cell_type": "code",
   "execution_count": 47,
   "metadata": {
    "collapsed": false
   },
   "outputs": [
    {
     "data": {
      "text/plain": [
       "(1300L, 16L)"
      ]
     },
     "execution_count": 47,
     "metadata": {},
     "output_type": "execute_result"
    }
   ],
   "source": [
    "skew_train1.shape"
   ]
  },
  {
   "cell_type": "code",
   "execution_count": 48,
   "metadata": {
    "collapsed": true
   },
   "outputs": [],
   "source": [
    "pos_skew_train1 = skew_train1[Y_train1 == 1]\n",
    "neg_skew_train1 = skew_train1[Y_train1 == 0]"
   ]
  },
  {
   "cell_type": "code",
   "execution_count": 51,
   "metadata": {
    "collapsed": true
   },
   "outputs": [],
   "source": [
    "plt.plot(pos_skew_train1[0:,0], pos_variance_train1[0:,0], \"o\", neg_skew_train1[0:,0], neg_variance_train1[0:,0], \"x\")\n",
    "plt.xlim([-5,5])\n",
    "plt.show()"
   ]
  },
  {
   "cell_type": "code",
   "execution_count": 52,
   "metadata": {
    "collapsed": false
   },
   "outputs": [
    {
     "name": "stdout",
     "output_type": "stream",
     "text": [
      "calculating ...\n",
      "time elapsed: 22.5439999104 sec\n"
     ]
    }
   ],
   "source": [
    "# compute variance on dataset\n",
    "samples = len(Y_train1)\n",
    "channels = 16\n",
    "kurtosis_train1 = numpy.zeros([samples, channels])\n",
    "\n",
    "print('calculating ...')\n",
    "start = time.time()\n",
    "\n",
    "\n",
    "for sample in xrange(samples):\n",
    "    for channel in xrange(channels):\n",
    "        kurtosis_train1[sample, channel] = scipy.stats.kurtosis(X_train1[sample]['dataStruct']['data'][0][0][:, channel])\n",
    "     \n",
    "    \n",
    "print('time elapsed: %s sec' %(time.time() - start))"
   ]
  },
  {
   "cell_type": "code",
   "execution_count": 53,
   "metadata": {
    "collapsed": true
   },
   "outputs": [],
   "source": [
    "pos_kurtosis_train1 = kurtosis_train1[Y_train1 == 1]\n",
    "neg_kurtosis_train1 = kurtosis_train1[Y_train1 == 0]"
   ]
  },
  {
   "cell_type": "code",
   "execution_count": 55,
   "metadata": {
    "collapsed": true
   },
   "outputs": [],
   "source": [
    "plt.plot(pos_kurtosis_train1[0:,0], pos_variance_train1[0:,0], \"o\", neg_kurtosis_train1[0:,0], neg_variance_train1[0:,0], \"x\")\n",
    "plt.xlim([-100,100])\n",
    "plt.show()"
   ]
  },
  {
   "cell_type": "code",
   "execution_count": 57,
   "metadata": {
    "collapsed": false
   },
   "outputs": [
    {
     "ename": "ImportError",
     "evalue": "No module named pyeeg",
     "output_type": "error",
     "traceback": [
      "\u001b[1;31m---------------------------------------------------------------------------\u001b[0m",
      "\u001b[1;31mImportError\u001b[0m                               Traceback (most recent call last)",
      "\u001b[1;32m<ipython-input-57-76fcc3d522f4>\u001b[0m in \u001b[0;36m<module>\u001b[1;34m()\u001b[0m\n\u001b[1;32m----> 1\u001b[1;33m \u001b[1;32mimport\u001b[0m \u001b[0mpyeeg\u001b[0m\u001b[1;33m\u001b[0m\u001b[0m\n\u001b[0m",
      "\u001b[1;31mImportError\u001b[0m: No module named pyeeg"
     ]
    }
   ],
   "source": [
    "import pyeeg"
   ]
  },
  {
   "cell_type": "code",
   "execution_count": null,
   "metadata": {
    "collapsed": true
   },
   "outputs": [],
   "source": []
  }
 ],
 "metadata": {
  "anaconda-cloud": {},
  "kernelspec": {
   "display_name": "Python [Root]",
   "language": "python",
   "name": "Python [Root]"
  },
  "language_info": {
   "codemirror_mode": {
    "name": "ipython",
    "version": 2
   },
   "file_extension": ".py",
   "mimetype": "text/x-python",
   "name": "python",
   "nbconvert_exporter": "python",
   "pygments_lexer": "ipython2",
   "version": "2.7.12"
  }
 },
 "nbformat": 4,
 "nbformat_minor": 0
}
